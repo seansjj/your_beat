{
 "cells": [
  {
   "cell_type": "code",
   "execution_count": null,
   "metadata": {},
   "outputs": [],
   "source": [
    "import numpy as np\n",
    "import pandas as pd\n",
    "from matplotlib import pyplot as plt\n",
    "%matplotlib inline\n",
    "\n",
    "import cv2\n",
    "import librosa\n",
    "import librosa.display\n",
    "from skimage import img_as_float\n",
    "from skimage.metrics import structural_similarity as ssim\n",
    "\n",
    "from compare import compare_images"
   ]
  },
  {
   "cell_type": "code",
   "execution_count": null,
   "metadata": {},
   "outputs": [],
   "source": [
    "# loading audio as waveform (y), sample rate (sr)\n",
    "y1, sr1 = librosa.load('c_scale.wav')\n",
    "y2, sr2 = librosa.load('little_star.wav')"
   ]
  },
  {
   "cell_type": "code",
   "execution_count": null,
   "metadata": {},
   "outputs": [],
   "source": [
    "# creating spectrogram of the chosen audio, comparing frequency (hz) over time (s)\n",
    "fig, ax = plt.subplots()\n",
    "M = librosa.feature.melspectrogram(y=y1, sr=sr1)\n",
    "M_db = librosa.power_to_db(M, ref=np.max)\n",
    "img = librosa.display.specshow(M_db, y_axis='mel', x_axis='time', ax=ax)\n",
    "ax.set(title='Mel Spectrogram')\n",
    "fig.colorbar(img, ax=ax, format=\"%+2.f dB\")"
   ]
  },
  {
   "cell_type": "code",
   "execution_count": null,
   "metadata": {},
   "outputs": [],
   "source": [
    "# creating spectrogram of the chosen audio, comparing frequency (hz) over time (s)\n",
    "fig, ax = plt.subplots()\n",
    "M = librosa.feature.melspectrogram(y=y2, sr=sr2)\n",
    "M_db = librosa.power_to_db(M, ref=np.max)\n",
    "img = librosa.display.specshow(M_db, y_axis='mel', x_axis='time', ax=ax)\n",
    "ax.set(title='Mel Spectrogram')\n",
    "fig.colorbar(img, ax=ax, format=\"%+2.f dB\")"
   ]
  },
  {
   "cell_type": "code",
   "execution_count": null,
   "metadata": {},
   "outputs": [],
   "source": [
    "scale = cv2.imread('scale_spec.png')\n",
    "star = cv2.imread('star_spec.png')\n",
    "\n",
    "images = [scale, star]\n",
    "\n",
    "for image in images:\n",
    "    image = np.squeeze(image)"
   ]
  },
  {
   "cell_type": "code",
   "execution_count": null,
   "metadata": {},
   "outputs": [],
   "source": [
    "print(scale)"
   ]
  },
  {
   "cell_type": "code",
   "execution_count": null,
   "metadata": {},
   "outputs": [],
   "source": [
    "compare_images(scale,star)"
   ]
  },
  {
   "cell_type": "code",
   "execution_count": null,
   "metadata": {},
   "outputs": [],
   "source": [
    "ssim(scale,star)"
   ]
  },
  {
   "cell_type": "code",
   "execution_count": null,
   "metadata": {},
   "outputs": [],
   "source": [
    "scale = img_as_float('scale_spec.png', force_copy=False)\n",
    "rows, cols = img.shape"
   ]
  },
  {
   "cell_type": "code",
   "execution_count": null,
   "metadata": {},
   "outputs": [],
   "source": []
  }
 ],
 "metadata": {
  "kernelspec": {
   "display_name": "Python 3",
   "language": "python",
   "name": "python3"
  },
  "language_info": {
   "codemirror_mode": {
    "name": "ipython",
    "version": 3
   },
   "file_extension": ".py",
   "mimetype": "text/x-python",
   "name": "python",
   "nbconvert_exporter": "python",
   "pygments_lexer": "ipython3",
   "version": "3.11.8"
  }
 },
 "nbformat": 4,
 "nbformat_minor": 2
}
